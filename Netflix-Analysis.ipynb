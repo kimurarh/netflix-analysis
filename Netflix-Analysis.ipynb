{
 "cells": [
  {
   "cell_type": "markdown",
   "id": "periodic-tobago",
   "metadata": {},
   "source": [
    "# Netflix Movies and TV Shows Analysis"
   ]
  },
  {
   "cell_type": "markdown",
   "id": "international-jamaica",
   "metadata": {},
   "source": [
    "The original dataset consists of tv shows and movies available on <strong>Netflix</strong> as of January of 2021"
   ]
  },
  {
   "cell_type": "markdown",
   "id": "objective-pierce",
   "metadata": {},
   "source": [
    "Dataset available on https://www.kaggle.com/shivamb/netflix-shows"
   ]
  },
  {
   "cell_type": "code",
   "execution_count": 1,
   "id": "hungry-proposition",
   "metadata": {},
   "outputs": [],
   "source": [
    "import numpy as np\n",
    "import pandas as pd\n",
    "import matplotlib.pyplot as plt\n",
    "import seaborn as sns\n",
    "import squarify"
   ]
  },
  {
   "cell_type": "markdown",
   "id": "confirmed-worry",
   "metadata": {},
   "source": [
    "# Loading and checking dataset"
   ]
  },
  {
   "cell_type": "code",
   "execution_count": 2,
   "id": "dependent-checkout",
   "metadata": {},
   "outputs": [],
   "source": [
    "netflix = pd.read_csv('netflix_titles.csv')"
   ]
  },
  {
   "cell_type": "code",
   "execution_count": 3,
   "id": "standard-cassette",
   "metadata": {},
   "outputs": [
    {
     "data": {
      "text/html": [
       "<div>\n",
       "<style scoped>\n",
       "    .dataframe tbody tr th:only-of-type {\n",
       "        vertical-align: middle;\n",
       "    }\n",
       "\n",
       "    .dataframe tbody tr th {\n",
       "        vertical-align: top;\n",
       "    }\n",
       "\n",
       "    .dataframe thead th {\n",
       "        text-align: right;\n",
       "    }\n",
       "</style>\n",
       "<table border=\"1\" class=\"dataframe\">\n",
       "  <thead>\n",
       "    <tr style=\"text-align: right;\">\n",
       "      <th></th>\n",
       "      <th>show_id</th>\n",
       "      <th>type</th>\n",
       "      <th>title</th>\n",
       "      <th>director</th>\n",
       "      <th>cast</th>\n",
       "      <th>country</th>\n",
       "      <th>date_added</th>\n",
       "      <th>release_year</th>\n",
       "      <th>rating</th>\n",
       "      <th>duration</th>\n",
       "      <th>listed_in</th>\n",
       "      <th>description</th>\n",
       "    </tr>\n",
       "  </thead>\n",
       "  <tbody>\n",
       "    <tr>\n",
       "      <th>0</th>\n",
       "      <td>s1</td>\n",
       "      <td>TV Show</td>\n",
       "      <td>3%</td>\n",
       "      <td>NaN</td>\n",
       "      <td>João Miguel, Bianca Comparato, Michel Gomes, R...</td>\n",
       "      <td>Brazil</td>\n",
       "      <td>August 14, 2020</td>\n",
       "      <td>2020</td>\n",
       "      <td>TV-MA</td>\n",
       "      <td>4 Seasons</td>\n",
       "      <td>International TV Shows, TV Dramas, TV Sci-Fi &amp;...</td>\n",
       "      <td>In a future where the elite inhabit an island ...</td>\n",
       "    </tr>\n",
       "    <tr>\n",
       "      <th>1</th>\n",
       "      <td>s2</td>\n",
       "      <td>Movie</td>\n",
       "      <td>7:19</td>\n",
       "      <td>Jorge Michel Grau</td>\n",
       "      <td>Demián Bichir, Héctor Bonilla, Oscar Serrano, ...</td>\n",
       "      <td>Mexico</td>\n",
       "      <td>December 23, 2016</td>\n",
       "      <td>2016</td>\n",
       "      <td>TV-MA</td>\n",
       "      <td>93 min</td>\n",
       "      <td>Dramas, International Movies</td>\n",
       "      <td>After a devastating earthquake hits Mexico Cit...</td>\n",
       "    </tr>\n",
       "    <tr>\n",
       "      <th>2</th>\n",
       "      <td>s3</td>\n",
       "      <td>Movie</td>\n",
       "      <td>23:59</td>\n",
       "      <td>Gilbert Chan</td>\n",
       "      <td>Tedd Chan, Stella Chung, Henley Hii, Lawrence ...</td>\n",
       "      <td>Singapore</td>\n",
       "      <td>December 20, 2018</td>\n",
       "      <td>2011</td>\n",
       "      <td>R</td>\n",
       "      <td>78 min</td>\n",
       "      <td>Horror Movies, International Movies</td>\n",
       "      <td>When an army recruit is found dead, his fellow...</td>\n",
       "    </tr>\n",
       "    <tr>\n",
       "      <th>3</th>\n",
       "      <td>s4</td>\n",
       "      <td>Movie</td>\n",
       "      <td>9</td>\n",
       "      <td>Shane Acker</td>\n",
       "      <td>Elijah Wood, John C. Reilly, Jennifer Connelly...</td>\n",
       "      <td>United States</td>\n",
       "      <td>November 16, 2017</td>\n",
       "      <td>2009</td>\n",
       "      <td>PG-13</td>\n",
       "      <td>80 min</td>\n",
       "      <td>Action &amp; Adventure, Independent Movies, Sci-Fi...</td>\n",
       "      <td>In a postapocalyptic world, rag-doll robots hi...</td>\n",
       "    </tr>\n",
       "    <tr>\n",
       "      <th>4</th>\n",
       "      <td>s5</td>\n",
       "      <td>Movie</td>\n",
       "      <td>21</td>\n",
       "      <td>Robert Luketic</td>\n",
       "      <td>Jim Sturgess, Kevin Spacey, Kate Bosworth, Aar...</td>\n",
       "      <td>United States</td>\n",
       "      <td>January 1, 2020</td>\n",
       "      <td>2008</td>\n",
       "      <td>PG-13</td>\n",
       "      <td>123 min</td>\n",
       "      <td>Dramas</td>\n",
       "      <td>A brilliant group of students become card-coun...</td>\n",
       "    </tr>\n",
       "  </tbody>\n",
       "</table>\n",
       "</div>"
      ],
      "text/plain": [
       "  show_id     type  title           director  \\\n",
       "0      s1  TV Show     3%                NaN   \n",
       "1      s2    Movie   7:19  Jorge Michel Grau   \n",
       "2      s3    Movie  23:59       Gilbert Chan   \n",
       "3      s4    Movie      9        Shane Acker   \n",
       "4      s5    Movie     21     Robert Luketic   \n",
       "\n",
       "                                                cast        country  \\\n",
       "0  João Miguel, Bianca Comparato, Michel Gomes, R...         Brazil   \n",
       "1  Demián Bichir, Héctor Bonilla, Oscar Serrano, ...         Mexico   \n",
       "2  Tedd Chan, Stella Chung, Henley Hii, Lawrence ...      Singapore   \n",
       "3  Elijah Wood, John C. Reilly, Jennifer Connelly...  United States   \n",
       "4  Jim Sturgess, Kevin Spacey, Kate Bosworth, Aar...  United States   \n",
       "\n",
       "          date_added  release_year rating   duration  \\\n",
       "0    August 14, 2020          2020  TV-MA  4 Seasons   \n",
       "1  December 23, 2016          2016  TV-MA     93 min   \n",
       "2  December 20, 2018          2011      R     78 min   \n",
       "3  November 16, 2017          2009  PG-13     80 min   \n",
       "4    January 1, 2020          2008  PG-13    123 min   \n",
       "\n",
       "                                           listed_in  \\\n",
       "0  International TV Shows, TV Dramas, TV Sci-Fi &...   \n",
       "1                       Dramas, International Movies   \n",
       "2                Horror Movies, International Movies   \n",
       "3  Action & Adventure, Independent Movies, Sci-Fi...   \n",
       "4                                             Dramas   \n",
       "\n",
       "                                         description  \n",
       "0  In a future where the elite inhabit an island ...  \n",
       "1  After a devastating earthquake hits Mexico Cit...  \n",
       "2  When an army recruit is found dead, his fellow...  \n",
       "3  In a postapocalyptic world, rag-doll robots hi...  \n",
       "4  A brilliant group of students become card-coun...  "
      ]
     },
     "execution_count": 3,
     "metadata": {},
     "output_type": "execute_result"
    }
   ],
   "source": [
    "netflix.head()"
   ]
  },
  {
   "cell_type": "code",
   "execution_count": 4,
   "id": "secure-magazine",
   "metadata": {},
   "outputs": [
    {
     "name": "stdout",
     "output_type": "stream",
     "text": [
      "<class 'pandas.core.frame.DataFrame'>\n",
      "RangeIndex: 7787 entries, 0 to 7786\n",
      "Data columns (total 12 columns):\n",
      " #   Column        Non-Null Count  Dtype \n",
      "---  ------        --------------  ----- \n",
      " 0   show_id       7787 non-null   object\n",
      " 1   type          7787 non-null   object\n",
      " 2   title         7787 non-null   object\n",
      " 3   director      5398 non-null   object\n",
      " 4   cast          7069 non-null   object\n",
      " 5   country       7280 non-null   object\n",
      " 6   date_added    7777 non-null   object\n",
      " 7   release_year  7787 non-null   int64 \n",
      " 8   rating        7780 non-null   object\n",
      " 9   duration      7787 non-null   object\n",
      " 10  listed_in     7787 non-null   object\n",
      " 11  description   7787 non-null   object\n",
      "dtypes: int64(1), object(11)\n",
      "memory usage: 730.2+ KB\n"
     ]
    }
   ],
   "source": [
    "netflix.info()"
   ]
  },
  {
   "cell_type": "code",
   "execution_count": 5,
   "id": "objective-brisbane",
   "metadata": {},
   "outputs": [
    {
     "data": {
      "text/plain": [
       "show_id            0\n",
       "type               0\n",
       "title              0\n",
       "director        2389\n",
       "cast             718\n",
       "country          507\n",
       "date_added        10\n",
       "release_year       0\n",
       "rating             7\n",
       "duration           0\n",
       "listed_in          0\n",
       "description        0\n",
       "dtype: int64"
      ]
     },
     "execution_count": 5,
     "metadata": {},
     "output_type": "execute_result"
    }
   ],
   "source": [
    "netflix.isna().sum()"
   ]
  },
  {
   "cell_type": "code",
   "execution_count": 6,
   "id": "polar-indicator",
   "metadata": {},
   "outputs": [
    {
     "name": "stdout",
     "output_type": "stream",
     "text": [
      "There were 7787 titles available on Netflix in 2019\n",
      "5377 Movies and 2410 TV Shows\n"
     ]
    }
   ],
   "source": [
    "number_of_shows = netflix[netflix['type'] == 'TV Show'].shape[0]\n",
    "number_of_movies = netflix[netflix['type'] == 'Movie'].shape[0]\n",
    "number_of_titles = netflix.shape[0]\n",
    "print(f'There were {number_of_titles} titles available on Netflix in 2019\\n{number_of_movies} Movies and {number_of_shows} TV Shows')"
   ]
  },
  {
   "cell_type": "markdown",
   "id": "southern-officer",
   "metadata": {},
   "source": [
    "# Data Cleaning"
   ]
  },
  {
   "cell_type": "markdown",
   "id": "large-measurement",
   "metadata": {},
   "source": [
    "## Dealing with missing information"
   ]
  },
  {
   "cell_type": "markdown",
   "id": "forward-sword",
   "metadata": {},
   "source": [
    "### Director"
   ]
  },
  {
   "cell_type": "code",
   "execution_count": 7,
   "id": "operating-switzerland",
   "metadata": {},
   "outputs": [
    {
     "data": {
      "text/plain": [
       "Raúl Campos, Jan Suter     18\n",
       "Marcus Raboy               16\n",
       "Jay Karas                  14\n",
       "Cathy Garcia-Molina        13\n",
       "Martin Scorsese            12\n",
       "                           ..\n",
       "Pierfrancesco Diliberto     1\n",
       "Maris Curran                1\n",
       "Marc Levin                  1\n",
       "Dileep Narayanan            1\n",
       "Danish Aslam                1\n",
       "Name: director, Length: 4049, dtype: int64"
      ]
     },
     "execution_count": 7,
     "metadata": {},
     "output_type": "execute_result"
    }
   ],
   "source": [
    "netflix.director.value_counts()"
   ]
  },
  {
   "cell_type": "markdown",
   "id": "cooperative-favor",
   "metadata": {},
   "source": [
    "This information doesn't seem to be relevant, so we'll be dropping this information from our DataFrame"
   ]
  },
  {
   "cell_type": "code",
   "execution_count": 8,
   "id": "confidential-differential",
   "metadata": {},
   "outputs": [],
   "source": [
    "netflix.drop(['director'], axis = 1, inplace = True)"
   ]
  },
  {
   "cell_type": "markdown",
   "id": "portuguese-papua",
   "metadata": {},
   "source": [
    "### Rating"
   ]
  },
  {
   "cell_type": "markdown",
   "id": "existing-algebra",
   "metadata": {},
   "source": [
    "There are only 7 NaN Ratings, so we'll be fixing this manually"
   ]
  },
  {
   "cell_type": "code",
   "execution_count": 9,
   "id": "premier-intent",
   "metadata": {},
   "outputs": [
    {
     "data": {
      "text/html": [
       "<div>\n",
       "<style scoped>\n",
       "    .dataframe tbody tr th:only-of-type {\n",
       "        vertical-align: middle;\n",
       "    }\n",
       "\n",
       "    .dataframe tbody tr th {\n",
       "        vertical-align: top;\n",
       "    }\n",
       "\n",
       "    .dataframe thead th {\n",
       "        text-align: right;\n",
       "    }\n",
       "</style>\n",
       "<table border=\"1\" class=\"dataframe\">\n",
       "  <thead>\n",
       "    <tr style=\"text-align: right;\">\n",
       "      <th></th>\n",
       "      <th>show_id</th>\n",
       "      <th>type</th>\n",
       "      <th>title</th>\n",
       "      <th>cast</th>\n",
       "      <th>country</th>\n",
       "      <th>date_added</th>\n",
       "      <th>release_year</th>\n",
       "      <th>rating</th>\n",
       "      <th>duration</th>\n",
       "      <th>listed_in</th>\n",
       "      <th>description</th>\n",
       "    </tr>\n",
       "  </thead>\n",
       "  <tbody>\n",
       "    <tr>\n",
       "      <th>67</th>\n",
       "      <td>s68</td>\n",
       "      <td>Movie</td>\n",
       "      <td>13TH: A Conversation with Oprah Winfrey &amp; Ava ...</td>\n",
       "      <td>Oprah Winfrey, Ava DuVernay</td>\n",
       "      <td>NaN</td>\n",
       "      <td>January 26, 2017</td>\n",
       "      <td>2017</td>\n",
       "      <td>NaN</td>\n",
       "      <td>37 min</td>\n",
       "      <td>Movies</td>\n",
       "      <td>Oprah Winfrey sits down with director Ava DuVe...</td>\n",
       "    </tr>\n",
       "    <tr>\n",
       "      <th>2359</th>\n",
       "      <td>s2360</td>\n",
       "      <td>TV Show</td>\n",
       "      <td>Gargantia on the Verdurous Planet</td>\n",
       "      <td>Kaito Ishikawa, Hisako Kanemoto, Ai Kayano, Ka...</td>\n",
       "      <td>Japan</td>\n",
       "      <td>December 1, 2016</td>\n",
       "      <td>2013</td>\n",
       "      <td>NaN</td>\n",
       "      <td>1 Season</td>\n",
       "      <td>Anime Series, International TV Shows</td>\n",
       "      <td>After falling through a wormhole, a space-dwel...</td>\n",
       "    </tr>\n",
       "    <tr>\n",
       "      <th>3660</th>\n",
       "      <td>s3661</td>\n",
       "      <td>TV Show</td>\n",
       "      <td>Little Lunch</td>\n",
       "      <td>Flynn Curry, Olivia Deeble, Madison Lu, Oisín ...</td>\n",
       "      <td>Australia</td>\n",
       "      <td>February 1, 2018</td>\n",
       "      <td>2015</td>\n",
       "      <td>NaN</td>\n",
       "      <td>1 Season</td>\n",
       "      <td>Kids' TV, TV Comedies</td>\n",
       "      <td>Adopting a child's perspective, this show take...</td>\n",
       "    </tr>\n",
       "    <tr>\n",
       "      <th>3736</th>\n",
       "      <td>s3737</td>\n",
       "      <td>Movie</td>\n",
       "      <td>Louis C.K. 2017</td>\n",
       "      <td>Louis C.K.</td>\n",
       "      <td>United States</td>\n",
       "      <td>April 4, 2017</td>\n",
       "      <td>2017</td>\n",
       "      <td>NaN</td>\n",
       "      <td>74 min</td>\n",
       "      <td>Movies</td>\n",
       "      <td>Louis C.K. muses on religion, eternal love, gi...</td>\n",
       "    </tr>\n",
       "    <tr>\n",
       "      <th>3737</th>\n",
       "      <td>s3738</td>\n",
       "      <td>Movie</td>\n",
       "      <td>Louis C.K.: Hilarious</td>\n",
       "      <td>Louis C.K.</td>\n",
       "      <td>United States</td>\n",
       "      <td>September 16, 2016</td>\n",
       "      <td>2010</td>\n",
       "      <td>NaN</td>\n",
       "      <td>84 min</td>\n",
       "      <td>Movies</td>\n",
       "      <td>Emmy-winning comedy writer Louis C.K. brings h...</td>\n",
       "    </tr>\n",
       "    <tr>\n",
       "      <th>3738</th>\n",
       "      <td>s3739</td>\n",
       "      <td>Movie</td>\n",
       "      <td>Louis C.K.: Live at the Comedy Store</td>\n",
       "      <td>Louis C.K.</td>\n",
       "      <td>United States</td>\n",
       "      <td>August 15, 2016</td>\n",
       "      <td>2015</td>\n",
       "      <td>NaN</td>\n",
       "      <td>66 min</td>\n",
       "      <td>Movies</td>\n",
       "      <td>The comic puts his trademark hilarious/thought...</td>\n",
       "    </tr>\n",
       "    <tr>\n",
       "      <th>4323</th>\n",
       "      <td>s4324</td>\n",
       "      <td>Movie</td>\n",
       "      <td>My Honor Was Loyalty</td>\n",
       "      <td>Leone Frisa, Paolo Vaccarino, Francesco Miglio...</td>\n",
       "      <td>Italy</td>\n",
       "      <td>March 1, 2017</td>\n",
       "      <td>2015</td>\n",
       "      <td>NaN</td>\n",
       "      <td>115 min</td>\n",
       "      <td>Dramas</td>\n",
       "      <td>Amid the chaos and horror of World War II, a c...</td>\n",
       "    </tr>\n",
       "  </tbody>\n",
       "</table>\n",
       "</div>"
      ],
      "text/plain": [
       "     show_id     type                                              title  \\\n",
       "67       s68    Movie  13TH: A Conversation with Oprah Winfrey & Ava ...   \n",
       "2359   s2360  TV Show                  Gargantia on the Verdurous Planet   \n",
       "3660   s3661  TV Show                                       Little Lunch   \n",
       "3736   s3737    Movie                                    Louis C.K. 2017   \n",
       "3737   s3738    Movie                              Louis C.K.: Hilarious   \n",
       "3738   s3739    Movie               Louis C.K.: Live at the Comedy Store   \n",
       "4323   s4324    Movie                               My Honor Was Loyalty   \n",
       "\n",
       "                                                   cast        country  \\\n",
       "67                          Oprah Winfrey, Ava DuVernay            NaN   \n",
       "2359  Kaito Ishikawa, Hisako Kanemoto, Ai Kayano, Ka...          Japan   \n",
       "3660  Flynn Curry, Olivia Deeble, Madison Lu, Oisín ...      Australia   \n",
       "3736                                         Louis C.K.  United States   \n",
       "3737                                         Louis C.K.  United States   \n",
       "3738                                         Louis C.K.  United States   \n",
       "4323  Leone Frisa, Paolo Vaccarino, Francesco Miglio...          Italy   \n",
       "\n",
       "              date_added  release_year rating  duration  \\\n",
       "67      January 26, 2017          2017    NaN    37 min   \n",
       "2359    December 1, 2016          2013    NaN  1 Season   \n",
       "3660    February 1, 2018          2015    NaN  1 Season   \n",
       "3736       April 4, 2017          2017    NaN    74 min   \n",
       "3737  September 16, 2016          2010    NaN    84 min   \n",
       "3738     August 15, 2016          2015    NaN    66 min   \n",
       "4323       March 1, 2017          2015    NaN   115 min   \n",
       "\n",
       "                                 listed_in  \\\n",
       "67                                  Movies   \n",
       "2359  Anime Series, International TV Shows   \n",
       "3660                 Kids' TV, TV Comedies   \n",
       "3736                                Movies   \n",
       "3737                                Movies   \n",
       "3738                                Movies   \n",
       "4323                                Dramas   \n",
       "\n",
       "                                            description  \n",
       "67    Oprah Winfrey sits down with director Ava DuVe...  \n",
       "2359  After falling through a wormhole, a space-dwel...  \n",
       "3660  Adopting a child's perspective, this show take...  \n",
       "3736  Louis C.K. muses on religion, eternal love, gi...  \n",
       "3737  Emmy-winning comedy writer Louis C.K. brings h...  \n",
       "3738  The comic puts his trademark hilarious/thought...  \n",
       "4323  Amid the chaos and horror of World War II, a c...  "
      ]
     },
     "execution_count": 9,
     "metadata": {},
     "output_type": "execute_result"
    }
   ],
   "source": [
    "netflix[netflix.rating.isna()]"
   ]
  },
  {
   "cell_type": "code",
   "execution_count": 10,
   "id": "european-father",
   "metadata": {},
   "outputs": [],
   "source": [
    "# Ratings according to IMDB and Netflix\n",
    "fixing_rating = {67: 'TV-PG', 2359: 'TV-14', 3660: 'TV-MA', 3736: 'TV-MA', 3737: 'TV-MA', 3738: 'TV-MA', 4323: 'PG-13'}"
   ]
  },
  {
   "cell_type": "code",
   "execution_count": 11,
   "id": "instrumental-reporter",
   "metadata": {},
   "outputs": [],
   "source": [
    "rating_column = netflix.columns.get_loc('rating')\n",
    "\n",
    "for item_id, item_rating in fixing_rating.items():\n",
    "    netflix.iloc[item_id, rating_column] = item_rating"
   ]
  },
  {
   "cell_type": "code",
   "execution_count": 12,
   "id": "quantitative-component",
   "metadata": {},
   "outputs": [
    {
     "data": {
      "text/plain": [
       "0"
      ]
     },
     "execution_count": 12,
     "metadata": {},
     "output_type": "execute_result"
    }
   ],
   "source": [
    "netflix['rating'].isna().sum()"
   ]
  },
  {
   "cell_type": "markdown",
   "id": "suspected-suite",
   "metadata": {},
   "source": [
    "### Cast and Date_Added"
   ]
  },
  {
   "cell_type": "markdown",
   "id": "dental-anaheim",
   "metadata": {},
   "source": [
    "We'll be using the 'cast' and 'date_added' in our analysis, so we'll be dropping the NaN values in these rows"
   ]
  },
  {
   "cell_type": "code",
   "execution_count": 13,
   "id": "collective-seven",
   "metadata": {},
   "outputs": [],
   "source": [
    "netflix = netflix[netflix['cast'].notna() & netflix['date_added'].notna()]\n"
   ]
  },
  {
   "cell_type": "markdown",
   "id": "great-universe",
   "metadata": {},
   "source": [
    "### Country"
   ]
  },
  {
   "cell_type": "code",
   "execution_count": 14,
   "id": "electronic-princess",
   "metadata": {},
   "outputs": [
    {
     "data": {
      "text/plain": [
       "410"
      ]
     },
     "execution_count": 14,
     "metadata": {},
     "output_type": "execute_result"
    }
   ],
   "source": [
    "netflix.country.isna().sum()"
   ]
  },
  {
   "cell_type": "markdown",
   "id": "assured-religion",
   "metadata": {},
   "source": [
    "There are a lot of NaN values in this column, so we'll filling them with the most common country"
   ]
  },
  {
   "cell_type": "code",
   "execution_count": 15,
   "id": "relative-surgery",
   "metadata": {},
   "outputs": [],
   "source": [
    "most_common_country = netflix['country'].value_counts().idxmax()\n",
    "netflix['country'].fillna(most_common_country, inplace = True)"
   ]
  },
  {
   "cell_type": "code",
   "execution_count": 16,
   "id": "informative-earth",
   "metadata": {},
   "outputs": [
    {
     "data": {
      "text/plain": [
       "0"
      ]
     },
     "execution_count": 16,
     "metadata": {},
     "output_type": "execute_result"
    }
   ],
   "source": [
    "netflix.country.isna().sum()"
   ]
  },
  {
   "cell_type": "code",
   "execution_count": 17,
   "id": "saved-embassy",
   "metadata": {},
   "outputs": [
    {
     "data": {
      "text/plain": [
       "United States                                    2655\n",
       "India                                             894\n",
       "United Kingdom                                    331\n",
       "Japan                                             221\n",
       "South Korea                                       180\n",
       "                                                 ... \n",
       "United States, Argentina                            1\n",
       "Cyprus                                              1\n",
       "United States, Germany, United Kingdom, Italy       1\n",
       "United States, Chile, Israel                        1\n",
       "Argentina, Uruguay, Spain, France                   1\n",
       "Name: country, Length: 626, dtype: int64"
      ]
     },
     "execution_count": 17,
     "metadata": {},
     "output_type": "execute_result"
    }
   ],
   "source": [
    "netflix.country.value_counts()"
   ]
  },
  {
   "cell_type": "markdown",
   "id": "educational-preserve",
   "metadata": {},
   "source": [
    "There are some rows that contain more than one country, we'll select only the first country listed"
   ]
  },
  {
   "cell_type": "code",
   "execution_count": 18,
   "id": "allied-pledge",
   "metadata": {},
   "outputs": [],
   "source": [
    "netflix['country'] = netflix['country'].apply(lambda x:x.split(',')[0].strip())"
   ]
  },
  {
   "cell_type": "code",
   "execution_count": 19,
   "id": "horizontal-agriculture",
   "metadata": {},
   "outputs": [
    {
     "data": {
      "text/plain": [
       "United States     2954\n",
       "India              927\n",
       "United Kingdom     499\n",
       "Canada             234\n",
       "Japan              231\n",
       "                  ... \n",
       "Jordan               1\n",
       "Somalia              1\n",
       "Namibia              1\n",
       "Senegal              1\n",
       "Cyprus               1\n",
       "Name: country, Length: 79, dtype: int64"
      ]
     },
     "execution_count": 19,
     "metadata": {},
     "output_type": "execute_result"
    }
   ],
   "source": [
    "netflix.country.value_counts()"
   ]
  },
  {
   "cell_type": "markdown",
   "id": "solar-factor",
   "metadata": {},
   "source": [
    "## Deleting irrelevant data"
   ]
  },
  {
   "cell_type": "code",
   "execution_count": 20,
   "id": "binding-thunder",
   "metadata": {},
   "outputs": [
    {
     "data": {
      "text/html": [
       "<div>\n",
       "<style scoped>\n",
       "    .dataframe tbody tr th:only-of-type {\n",
       "        vertical-align: middle;\n",
       "    }\n",
       "\n",
       "    .dataframe tbody tr th {\n",
       "        vertical-align: top;\n",
       "    }\n",
       "\n",
       "    .dataframe thead th {\n",
       "        text-align: right;\n",
       "    }\n",
       "</style>\n",
       "<table border=\"1\" class=\"dataframe\">\n",
       "  <thead>\n",
       "    <tr style=\"text-align: right;\">\n",
       "      <th></th>\n",
       "      <th>show_id</th>\n",
       "      <th>type</th>\n",
       "      <th>title</th>\n",
       "      <th>cast</th>\n",
       "      <th>country</th>\n",
       "      <th>date_added</th>\n",
       "      <th>release_year</th>\n",
       "      <th>rating</th>\n",
       "      <th>duration</th>\n",
       "      <th>listed_in</th>\n",
       "      <th>description</th>\n",
       "    </tr>\n",
       "  </thead>\n",
       "  <tbody>\n",
       "    <tr>\n",
       "      <th>0</th>\n",
       "      <td>s1</td>\n",
       "      <td>TV Show</td>\n",
       "      <td>3%</td>\n",
       "      <td>João Miguel, Bianca Comparato, Michel Gomes, R...</td>\n",
       "      <td>Brazil</td>\n",
       "      <td>August 14, 2020</td>\n",
       "      <td>2020</td>\n",
       "      <td>TV-MA</td>\n",
       "      <td>4 Seasons</td>\n",
       "      <td>International TV Shows, TV Dramas, TV Sci-Fi &amp;...</td>\n",
       "      <td>In a future where the elite inhabit an island ...</td>\n",
       "    </tr>\n",
       "    <tr>\n",
       "      <th>1</th>\n",
       "      <td>s2</td>\n",
       "      <td>Movie</td>\n",
       "      <td>7:19</td>\n",
       "      <td>Demián Bichir, Héctor Bonilla, Oscar Serrano, ...</td>\n",
       "      <td>Mexico</td>\n",
       "      <td>December 23, 2016</td>\n",
       "      <td>2016</td>\n",
       "      <td>TV-MA</td>\n",
       "      <td>93 min</td>\n",
       "      <td>Dramas, International Movies</td>\n",
       "      <td>After a devastating earthquake hits Mexico Cit...</td>\n",
       "    </tr>\n",
       "    <tr>\n",
       "      <th>2</th>\n",
       "      <td>s3</td>\n",
       "      <td>Movie</td>\n",
       "      <td>23:59</td>\n",
       "      <td>Tedd Chan, Stella Chung, Henley Hii, Lawrence ...</td>\n",
       "      <td>Singapore</td>\n",
       "      <td>December 20, 2018</td>\n",
       "      <td>2011</td>\n",
       "      <td>R</td>\n",
       "      <td>78 min</td>\n",
       "      <td>Horror Movies, International Movies</td>\n",
       "      <td>When an army recruit is found dead, his fellow...</td>\n",
       "    </tr>\n",
       "    <tr>\n",
       "      <th>3</th>\n",
       "      <td>s4</td>\n",
       "      <td>Movie</td>\n",
       "      <td>9</td>\n",
       "      <td>Elijah Wood, John C. Reilly, Jennifer Connelly...</td>\n",
       "      <td>United States</td>\n",
       "      <td>November 16, 2017</td>\n",
       "      <td>2009</td>\n",
       "      <td>PG-13</td>\n",
       "      <td>80 min</td>\n",
       "      <td>Action &amp; Adventure, Independent Movies, Sci-Fi...</td>\n",
       "      <td>In a postapocalyptic world, rag-doll robots hi...</td>\n",
       "    </tr>\n",
       "    <tr>\n",
       "      <th>4</th>\n",
       "      <td>s5</td>\n",
       "      <td>Movie</td>\n",
       "      <td>21</td>\n",
       "      <td>Jim Sturgess, Kevin Spacey, Kate Bosworth, Aar...</td>\n",
       "      <td>United States</td>\n",
       "      <td>January 1, 2020</td>\n",
       "      <td>2008</td>\n",
       "      <td>PG-13</td>\n",
       "      <td>123 min</td>\n",
       "      <td>Dramas</td>\n",
       "      <td>A brilliant group of students become card-coun...</td>\n",
       "    </tr>\n",
       "  </tbody>\n",
       "</table>\n",
       "</div>"
      ],
      "text/plain": [
       "  show_id     type  title                                               cast  \\\n",
       "0      s1  TV Show     3%  João Miguel, Bianca Comparato, Michel Gomes, R...   \n",
       "1      s2    Movie   7:19  Demián Bichir, Héctor Bonilla, Oscar Serrano, ...   \n",
       "2      s3    Movie  23:59  Tedd Chan, Stella Chung, Henley Hii, Lawrence ...   \n",
       "3      s4    Movie      9  Elijah Wood, John C. Reilly, Jennifer Connelly...   \n",
       "4      s5    Movie     21  Jim Sturgess, Kevin Spacey, Kate Bosworth, Aar...   \n",
       "\n",
       "         country         date_added  release_year rating   duration  \\\n",
       "0         Brazil    August 14, 2020          2020  TV-MA  4 Seasons   \n",
       "1         Mexico  December 23, 2016          2016  TV-MA     93 min   \n",
       "2      Singapore  December 20, 2018          2011      R     78 min   \n",
       "3  United States  November 16, 2017          2009  PG-13     80 min   \n",
       "4  United States    January 1, 2020          2008  PG-13    123 min   \n",
       "\n",
       "                                           listed_in  \\\n",
       "0  International TV Shows, TV Dramas, TV Sci-Fi &...   \n",
       "1                       Dramas, International Movies   \n",
       "2                Horror Movies, International Movies   \n",
       "3  Action & Adventure, Independent Movies, Sci-Fi...   \n",
       "4                                             Dramas   \n",
       "\n",
       "                                         description  \n",
       "0  In a future where the elite inhabit an island ...  \n",
       "1  After a devastating earthquake hits Mexico Cit...  \n",
       "2  When an army recruit is found dead, his fellow...  \n",
       "3  In a postapocalyptic world, rag-doll robots hi...  \n",
       "4  A brilliant group of students become card-coun...  "
      ]
     },
     "execution_count": 20,
     "metadata": {},
     "output_type": "execute_result"
    }
   ],
   "source": [
    "netflix.head()"
   ]
  },
  {
   "cell_type": "code",
   "execution_count": 21,
   "id": "round-auckland",
   "metadata": {},
   "outputs": [
    {
     "data": {
      "text/plain": [
       "Index(['type', 'cast', 'country', 'date_added', 'release_year', 'rating',\n",
       "       'listed_in'],\n",
       "      dtype='object')"
      ]
     },
     "execution_count": 21,
     "metadata": {},
     "output_type": "execute_result"
    }
   ],
   "source": [
    "netflix.drop(['show_id', 'title', 'duration', 'description', ], axis = 1, inplace = True)\n",
    "netflix.columns"
   ]
  },
  {
   "cell_type": "markdown",
   "id": "chicken-craps",
   "metadata": {},
   "source": [
    "## Adding new columns"
   ]
  },
  {
   "cell_type": "markdown",
   "id": "express-curtis",
   "metadata": {},
   "source": [
    "We'll be adding 2 new columns:\n",
    "- Month_Added --> in which month of the year the movie/show was added to netflix\n",
    "- Year_Added --> in which year the movie/show was added to netflix\n",
    "- Season_Added --> in which season of the year the movie/show was added to netflix"
   ]
  },
  {
   "cell_type": "code",
   "execution_count": 22,
   "id": "straight-prague",
   "metadata": {},
   "outputs": [],
   "source": [
    "netflix['Month_Added'] = netflix['date_added'].apply(lambda x:x.split(',')[0].strip().split(' ')[0])"
   ]
  },
  {
   "cell_type": "code",
   "execution_count": 23,
   "id": "greater-necessity",
   "metadata": {},
   "outputs": [],
   "source": [
    "netflix['Year_Added'] = netflix['date_added'].apply(lambda x:x.split(',')[1].strip())"
   ]
  },
  {
   "cell_type": "code",
   "execution_count": 24,
   "id": "dynamic-archives",
   "metadata": {},
   "outputs": [],
   "source": [
    "spring_months = ('March', 'April', 'May')\n",
    "summer_months = ('June', 'July', 'August')\n",
    "fall_months = ('September', 'October', 'November')\n",
    "winter_months = ('December', 'January', 'February')\n",
    "\n",
    "netflix['Season_Added'] = netflix['Month_Added'].apply(lambda x:'Spring' if x in spring_months else ('Summer' if x in summer_months else ('Fall' if x in fall_months else ('Winter' if x in winter_months else ''))))"
   ]
  },
  {
   "cell_type": "code",
   "execution_count": 25,
   "id": "emerging-hudson",
   "metadata": {},
   "outputs": [],
   "source": [
    "netflix.drop(['date_added'], axis = 1, inplace = True)"
   ]
  },
  {
   "cell_type": "markdown",
   "id": "naughty-object",
   "metadata": {},
   "source": [
    "## Renaming Columns"
   ]
  },
  {
   "cell_type": "code",
   "execution_count": 26,
   "id": "conscious-ghana",
   "metadata": {},
   "outputs": [
    {
     "data": {
      "text/html": [
       "<div>\n",
       "<style scoped>\n",
       "    .dataframe tbody tr th:only-of-type {\n",
       "        vertical-align: middle;\n",
       "    }\n",
       "\n",
       "    .dataframe tbody tr th {\n",
       "        vertical-align: top;\n",
       "    }\n",
       "\n",
       "    .dataframe thead th {\n",
       "        text-align: right;\n",
       "    }\n",
       "</style>\n",
       "<table border=\"1\" class=\"dataframe\">\n",
       "  <thead>\n",
       "    <tr style=\"text-align: right;\">\n",
       "      <th></th>\n",
       "      <th>Type</th>\n",
       "      <th>Cast</th>\n",
       "      <th>Country</th>\n",
       "      <th>Year_Released</th>\n",
       "      <th>Rating</th>\n",
       "      <th>Genres</th>\n",
       "      <th>Month_Added</th>\n",
       "      <th>Year_Added</th>\n",
       "      <th>Season_Added</th>\n",
       "    </tr>\n",
       "  </thead>\n",
       "  <tbody>\n",
       "    <tr>\n",
       "      <th>0</th>\n",
       "      <td>TV Show</td>\n",
       "      <td>João Miguel, Bianca Comparato, Michel Gomes, R...</td>\n",
       "      <td>Brazil</td>\n",
       "      <td>2020</td>\n",
       "      <td>TV-MA</td>\n",
       "      <td>International TV Shows, TV Dramas, TV Sci-Fi &amp;...</td>\n",
       "      <td>August</td>\n",
       "      <td>2020</td>\n",
       "      <td>Summer</td>\n",
       "    </tr>\n",
       "    <tr>\n",
       "      <th>1</th>\n",
       "      <td>Movie</td>\n",
       "      <td>Demián Bichir, Héctor Bonilla, Oscar Serrano, ...</td>\n",
       "      <td>Mexico</td>\n",
       "      <td>2016</td>\n",
       "      <td>TV-MA</td>\n",
       "      <td>Dramas, International Movies</td>\n",
       "      <td>December</td>\n",
       "      <td>2016</td>\n",
       "      <td>Winter</td>\n",
       "    </tr>\n",
       "    <tr>\n",
       "      <th>2</th>\n",
       "      <td>Movie</td>\n",
       "      <td>Tedd Chan, Stella Chung, Henley Hii, Lawrence ...</td>\n",
       "      <td>Singapore</td>\n",
       "      <td>2011</td>\n",
       "      <td>R</td>\n",
       "      <td>Horror Movies, International Movies</td>\n",
       "      <td>December</td>\n",
       "      <td>2018</td>\n",
       "      <td>Winter</td>\n",
       "    </tr>\n",
       "    <tr>\n",
       "      <th>3</th>\n",
       "      <td>Movie</td>\n",
       "      <td>Elijah Wood, John C. Reilly, Jennifer Connelly...</td>\n",
       "      <td>United States</td>\n",
       "      <td>2009</td>\n",
       "      <td>PG-13</td>\n",
       "      <td>Action &amp; Adventure, Independent Movies, Sci-Fi...</td>\n",
       "      <td>November</td>\n",
       "      <td>2017</td>\n",
       "      <td>Fall</td>\n",
       "    </tr>\n",
       "    <tr>\n",
       "      <th>4</th>\n",
       "      <td>Movie</td>\n",
       "      <td>Jim Sturgess, Kevin Spacey, Kate Bosworth, Aar...</td>\n",
       "      <td>United States</td>\n",
       "      <td>2008</td>\n",
       "      <td>PG-13</td>\n",
       "      <td>Dramas</td>\n",
       "      <td>January</td>\n",
       "      <td>2020</td>\n",
       "      <td>Winter</td>\n",
       "    </tr>\n",
       "  </tbody>\n",
       "</table>\n",
       "</div>"
      ],
      "text/plain": [
       "      Type                                               Cast        Country  \\\n",
       "0  TV Show  João Miguel, Bianca Comparato, Michel Gomes, R...         Brazil   \n",
       "1    Movie  Demián Bichir, Héctor Bonilla, Oscar Serrano, ...         Mexico   \n",
       "2    Movie  Tedd Chan, Stella Chung, Henley Hii, Lawrence ...      Singapore   \n",
       "3    Movie  Elijah Wood, John C. Reilly, Jennifer Connelly...  United States   \n",
       "4    Movie  Jim Sturgess, Kevin Spacey, Kate Bosworth, Aar...  United States   \n",
       "\n",
       "   Year_Released Rating                                             Genres  \\\n",
       "0           2020  TV-MA  International TV Shows, TV Dramas, TV Sci-Fi &...   \n",
       "1           2016  TV-MA                       Dramas, International Movies   \n",
       "2           2011      R                Horror Movies, International Movies   \n",
       "3           2009  PG-13  Action & Adventure, Independent Movies, Sci-Fi...   \n",
       "4           2008  PG-13                                             Dramas   \n",
       "\n",
       "  Month_Added Year_Added Season_Added  \n",
       "0      August       2020       Summer  \n",
       "1    December       2016       Winter  \n",
       "2    December       2018       Winter  \n",
       "3    November       2017         Fall  \n",
       "4     January       2020       Winter  "
      ]
     },
     "execution_count": 26,
     "metadata": {},
     "output_type": "execute_result"
    }
   ],
   "source": [
    "netflix.rename(columns={'type': 'Type', \n",
    "                        'cast': 'Cast', \n",
    "                        'country': 'Country', \n",
    "                        'release_year': 'Year_Released', \n",
    "                        'rating': 'Rating',\n",
    "                        'listed_in': 'Genres'}, inplace = True)\n",
    "netflix.head()"
   ]
  },
  {
   "cell_type": "markdown",
   "id": "massive-twelve",
   "metadata": {},
   "source": [
    "# Data Visualization"
   ]
  },
  {
   "cell_type": "code",
   "execution_count": 27,
   "id": "radical-baking",
   "metadata": {},
   "outputs": [
    {
     "data": {
      "image/png": "[encoded data removed]",
      "text/plain": [
       "<Figure size 1080x360 with 1 Axes>"
      ]
     },
     "metadata": {},
     "output_type": "display_data"
    }
   ],
   "source": [
    "values = [number_of_shows, number_of_movies]\n",
    "labels = ['TV Shows', 'Movies']\n",
    "colors = ['#221F1F', '#E50914']\n",
    "plt.figure(figsize=(15,5))\n",
    "plt.pie(values, labels=labels, startangle=90, colors=colors, autopct='%1.1f%%', textprops={'color': 'w'})\n",
    "plt.show()"
   ]
  },
  {
   "cell_type": "markdown",
   "id": "brown-portland",
   "metadata": {},
   "source": [
    "We'll be analyzing the data in 3 perspectives:\n",
    "- Netflix TV Shows\n",
    "- Netflix Movies\n",
    "- Netflix Catalogue (TV Shows + Movies)"
   ]
  },
  {
   "cell_type": "code",
   "execution_count": 28,
   "id": "proved-cooperative",
   "metadata": {},
   "outputs": [],
   "source": [
    "# Creating separated DataFrames for TV Shows and Movies\n",
    "netflix_shows = netflix[netflix['Type'] == 'TV Show']\n",
    "netflix_movies = netflix[netflix['Type'] == 'Movie']"
   ]
  },
  {
   "cell_type": "code",
   "execution_count": 29,
   "id": "occasional-criticism",
   "metadata": {},
   "outputs": [
    {
     "name": "stdout",
     "output_type": "stream",
     "text": [
      "2108 TV Shows and 4951 Movies\n"
     ]
    }
   ],
   "source": [
    "print(f'{netflix_shows.shape[0]} TV Shows and {netflix_movies.shape[0]} Movies')"
   ]
  },
  {
   "cell_type": "markdown",
   "id": "prerequisite-headline",
   "metadata": {},
   "source": [
    "### Most common countries"
   ]
  },
  {
   "cell_type": "code",
   "execution_count": 30,
   "id": "apparent-publicity",
   "metadata": {},
   "outputs": [],
   "source": [
    "productions_per_country = netflix.Country.value_counts().head(10)\n",
    "shows_per_country = netflix_shows.Country.value_counts().head(10)\n",
    "movies_per_country = netflix_movies.Country.value_counts().head(10)"
   ]
  },
  {
   "cell_type": "code",
   "execution_count": 31,
   "id": "indie-forest",
   "metadata": {},
   "outputs": [
    {
     "data": {
      "image/png": "[encoded data removed]",
      "text/plain": [
       "<Figure size 1080x360 with 1 Axes>"
      ]
     },
     "metadata": {
      "needs_background": "light"
     },
     "output_type": "display_data"
    }
   ],
   "source": [
    "plt.figure(figsize=(15,5))\n",
    "plt.title('Netflix Productions per Country', fontsize=20)\n",
    "plt.suptitle('TV Shows and Movies')\n",
    "plt.ylabel('Number of Productions', fontsize=16)\n",
    "plt.xlabel('Country', fontsize=16)\n",
    "plt.xticks(fontsize=12)\n",
    "sns.barplot(x = productions_per_country.index, y = productions_per_country.values)\n",
    "plt.show()"
   ]
  },
  {
   "cell_type": "code",
   "execution_count": 32,
   "id": "regular-juice",
   "metadata": {},
   "outputs": [
    {
     "data": {
      "image/png": "[encoded data removed]",
      "text/plain": [
       "<Figure size 1080x360 with 1 Axes>"
      ]
     },
     "metadata": {
      "needs_background": "light"
     },
     "output_type": "display_data"
    }
   ],
   "source": [
    "plt.figure(figsize=(15,5))\n",
    "plt.title('Netflix Movies per Country', fontsize=20)\n",
    "plt.ylabel('Number of Movies', fontsize=16)\n",
    "plt.xlabel('Country', fontsize=16)\n",
    "plt.xticks(fontsize=12)\n",
    "sns.barplot(x = movies_per_country.index, y = movies_per_country.values)\n",
    "plt.show()"
   ]
  },
  {
   "cell_type": "code",
   "execution_count": 33,
   "id": "latin-blackberry",
   "metadata": {},
   "outputs": [
    {
     "data": {
      "image/png": "[encoded data removed]",
      "text/plain": [
       "<Figure size 1080x360 with 1 Axes>"
      ]
     },
     "metadata": {
      "needs_background": "light"
     },
     "output_type": "display_data"
    }
   ],
   "source": [
    "plt.figure(figsize=(15,5))\n",
    "plt.title('Netflix TV Shows per Country', fontsize=20)\n",
    "plt.ylabel('Number of TV Shows', fontsize=16)\n",
    "plt.xlabel('Country', fontsize=16)\n",
    "plt.xticks(fontsize=12)\n",
    "sns.barplot(x = shows_per_country.index, y = shows_per_country.values)\n",
    "plt.show()"
   ]
  },
  {
   "cell_type": "markdown",
   "id": "moving-superintendent",
   "metadata": {},
   "source": [
    "- <strong>United</strong> States has the most productions in <strong>both categories</strong>: Movies and TV Shows\n",
    "- <strong>India</strong> appears on both, but focuses in the production of <strong>Movies</strong>\n",
    "- <strong>Japan</strong> and <strong>South Korea</strong> have a lot of <strong>TV Shows</strong>, but few Movies"
   ]
  },
  {
   "cell_type": "markdown",
   "id": "engaging-shirt",
   "metadata": {},
   "source": [
    "### Number of additions per year"
   ]
  },
  {
   "cell_type": "code",
   "execution_count": 34,
   "id": "painted-ferry",
   "metadata": {},
   "outputs": [
    {
     "data": {
      "image/png": "[encoded data removed]",
      "text/plain": [
       "<Figure size 720x360 with 1 Axes>"
      ]
     },
     "metadata": {
      "needs_background": "light"
     },
     "output_type": "display_data"
    }
   ],
   "source": [
    "movies_per_year = netflix_movies.sort_values(by='Year_Added')['Year_Added']\n",
    "additions_per_year = netflix.sort_values(by='Year_Added')['Year_Added']\n",
    "\n",
    "plt.figure(figsize=(10,5))\n",
    "plt.title('Netflix additions per year', fontsize=20)\n",
    "plt.ylabel('Count', fontsize=16)\n",
    "plt.xlabel('Year', fontsize=16)\n",
    "plt.xticks(fontsize=12)\n",
    "sns.histplot(additions_per_year, kde=False, color='r')\n",
    "sns.histplot(movies_per_year, kde=False, color='#8B0000')\n",
    "plt.legend(('Movies and TV Shows', 'Movies'))\n",
    "plt.show()"
   ]
  },
  {
   "cell_type": "markdown",
   "id": "intermediate-worst",
   "metadata": {},
   "source": [
    "### Number of additions per month"
   ]
  },
  {
   "cell_type": "code",
   "execution_count": 35,
   "id": "listed-swedish",
   "metadata": {},
   "outputs": [],
   "source": [
    "months = ['January', 'February', 'March', 'April', 'May', 'June', 'July', 'August', 'September', 'October', 'November', 'December']\n",
    "netflix['Month_Added'] = pd.Categorical(netflix['Month_Added'], categories=months, ordered=True)\n",
    "additions_per_month = netflix.sort_values(by='Month_Added')['Month_Added']"
   ]
  },
  {
   "cell_type": "code",
   "execution_count": 36,
   "id": "rapid-protection",
   "metadata": {},
   "outputs": [
    {
     "data": {
      "image/png": "[encoded data removed]",
      "text/plain": [
       "<Figure size 1080x360 with 1 Axes>"
      ]
     },
     "metadata": {
      "needs_background": "light"
     },
     "output_type": "display_data"
    }
   ],
   "source": [
    "plt.figure(figsize=(15,5))\n",
    "plt.title('Netflix additions per year', fontsize=20)\n",
    "plt.ylabel('Number of Additions', fontsize=16)\n",
    "plt.xlabel('Month', fontsize=16)\n",
    "plt.xticks(fontsize=12)\n",
    "sns.histplot(additions_per_month, kde=False, color='r')\n",
    "plt.show()"
   ]
  },
  {
   "cell_type": "markdown",
   "id": "sharing-assumption",
   "metadata": {},
   "source": [
    "### Number of additions per Season of the year"
   ]
  },
  {
   "cell_type": "code",
   "execution_count": 37,
   "id": "eastern-advocate",
   "metadata": {},
   "outputs": [],
   "source": [
    "seasons = ['Spring', 'Summer', 'Fall', 'Winter']\n",
    "netflix['Season_Added'] = pd.Categorical(netflix['Season_Added'], categories=seasons, ordered=True)\n",
    "additions_per_season = netflix.sort_values(by='Season_Added')['Season_Added']\n",
    "\n",
    "warm_seasons = additions_per_season[additions_per_season.values.isin(['Spring', 'Summer'])]\n",
    "cold_seasons = additions_per_season[additions_per_season.values.isin(['Fall', 'Winter'])]"
   ]
  },
  {
   "cell_type": "code",
   "execution_count": 38,
   "id": "golden-radius",
   "metadata": {},
   "outputs": [
    {
     "data": {
      "image/png": "[encoded data removed]",
      "text/plain": [
       "<Figure size 720x360 with 1 Axes>"
      ]
     },
     "metadata": {
      "needs_background": "light"
     },
     "output_type": "display_data"
    }
   ],
   "source": [
    "plt.figure(figsize=(10,5))\n",
    "colors = ['b', 'b', 'r', 'r']\n",
    "plt.title('Netflix additions per season', fontsize=20)\n",
    "plt.ylabel('Number of Additions', fontsize=16)\n",
    "plt.xlabel('Season of the Year', fontsize=16)\n",
    "plt.xticks(fontsize=12)\n",
    "sns.histplot(warm_seasons, kde=False, color='#FF4136', edgecolor='white')\n",
    "sns.histplot(cold_seasons, kde=False, color='#0074D9', edgecolor='white')\n",
    "plt.show()"
   ]
  },
  {
   "cell_type": "code",
   "execution_count": 144,
   "id": "literary-comfort",
   "metadata": {},
   "outputs": [
    {
     "name": "stdout",
     "output_type": "stream",
     "text": [
      "54.33% of the titles were added during the cold seasons of the year (Spring and Winter)\n"
     ]
    }
   ],
   "source": [
    "warm_season = warm_seasons.shape[0]\n",
    "cold_season = cold_seasons.shape[0]\n",
    "total = warm_season + cold_season\n",
    "percentage_warm_season = (warm_season / total) * 100\n",
    "percentage_cold_season = (cold_season / total) * 100\n",
    "print(f'{percentage_cold_season:.2f}% of the titles were added during the cold seasons of the year (Spring and Winter)')"
   ]
  },
  {
   "cell_type": "markdown",
   "id": "fourth-stereo",
   "metadata": {},
   "source": [
    "### Distribution per TV Rating"
   ]
  },
  {
   "cell_type": "code",
   "execution_count": 147,
   "id": "combined-improvement",
   "metadata": {},
   "outputs": [
    {
     "data": {
      "image/png": "[encoded data removed]",
      "text/plain": [
       "<Figure size 720x360 with 1 Axes>"
      ]
     },
     "metadata": {
      "needs_background": "light"
     },
     "output_type": "display_data"
    }
   ],
   "source": [
    "netflix_ratings = netflix.Rating.value_counts().index\n",
    "ratings_count = netflix.Rating.value_counts().values\n",
    "ratings_percentage = (ratings_count * 100 / netflix.shape[0]).round(2)\n",
    "labels = netflix_ratings + '\\n' + ratings_percentage.astype('str') + '%'\n",
    "\n",
    "unique_colors = ['#6a0500', '#9b0700', '#cc0a00', '#fc0c00', '#ff392e', '#ff675f', '#ff9690', '#ffada9', '#fec4c1']\n",
    "colors = [(unique_colors[x] if x < len(unique_colors) else '#fee3e2') for x in range(ratings_count.shape[0])]\n",
    "\n",
    "plt.figure(figsize=(10,5))\n",
    "squarify.plot(sizes=ratings_count, label=labels[:5], color=colors, text_kwargs={'fontsize': 15, 'color': 'white', 'weight': 'bold'})\n",
    "plt.axis('off')\n",
    "plt.show()"
   ]
  },
  {
   "cell_type": "markdown",
   "id": "brave-median",
   "metadata": {},
   "source": [
    "### Popular Actor/Actress"
   ]
  },
  {
   "cell_type": "code",
   "execution_count": 219,
   "id": "first-buddy",
   "metadata": {},
   "outputs": [
    {
     "name": "stdout",
     "output_type": "stream",
     "text": [
      "The total number of actors/actresses that appear on Netflix is 32847\n"
     ]
    }
   ],
   "source": [
    "actor_list = pd.Series((lambda x:x)(x.strip()) for x in ','.join(netflix['Cast']).split(','))\n",
    "popular_actors = actor_list.value_counts().head(10)\n",
    "print(f'The total number of actors/actresses that appear on Netflix is {actor_list.nunique()}')"
   ]
  },
  {
   "cell_type": "code",
   "execution_count": 218,
   "id": "entitled-denver",
   "metadata": {},
   "outputs": [
    {
     "data": {
      "image/png": "[encoded data removed]",
      "text/plain": [
       "<Figure size 1080x360 with 1 Axes>"
      ]
     },
     "metadata": {
      "needs_background": "light"
     },
     "output_type": "display_data"
    }
   ],
   "source": [
    "plt.figure(figsize=(15,5))\n",
    "plt.title('Popular Netflix Actors/Actresses', fontsize=20)\n",
    "plt.ylabel('Number of appearances', fontsize=16)\n",
    "plt.xlabel('Actor/Actress', fontsize=16)\n",
    "plt.xticks(fontsize=12, rotation=30)\n",
    "plt.yticks(fontsize=12)\n",
    "sns.barplot(x = popular_actors.index, y = popular_actors.values)\n",
    "plt.show()"
   ]
  },
  {
   "cell_type": "code",
   "execution_count": 229,
   "id": "opponent-celebration",
   "metadata": {},
   "outputs": [
    {
     "name": "stdout",
     "output_type": "stream",
     "text": [
      "The total number of US actors/actresses that appear on Netflix is 13753\n"
     ]
    }
   ],
   "source": [
    "netflix_us = netflix[netflix['Country'] == 'United States']\n",
    "actor_list_us = pd.Series((lambda x:x)(x.strip()) for x in ','.join(netflix_us['Cast']).split(','))\n",
    "popular_actors_us = actor_list_us.value_counts().head(10)\n",
    "print(f'The total number of US actors/actresses that appear on Netflix is {actor_list_us.nunique()}')"
   ]
  },
  {
   "cell_type": "code",
   "execution_count": 228,
   "id": "cognitive-medicine",
   "metadata": {},
   "outputs": [
    {
     "data": {
      "image/png": "[encoded data removed]",
      "text/plain": [
       "<Figure size 1080x360 with 1 Axes>"
      ]
     },
     "metadata": {
      "needs_background": "light"
     },
     "output_type": "display_data"
    }
   ],
   "source": [
    "plt.figure(figsize=(15,5))\n",
    "plt.title('Popular US Netflix Actors/Actresses', fontsize=20)\n",
    "plt.ylabel('Number of appearances', fontsize=16)\n",
    "plt.xlabel('Actor/Actress', fontsize=16)\n",
    "plt.xticks(fontsize=12, rotation=30)\n",
    "plt.yticks(fontsize=12)\n",
    "sns.barplot(x = popular_actors_us.index, y = popular_actors_us.values)\n",
    "plt.show()"
   ]
  },
  {
   "cell_type": "markdown",
   "id": "swiss-liverpool",
   "metadata": {},
   "source": [
    "### Most common genre"
   ]
  },
  {
   "cell_type": "markdown",
   "id": "sized-beads",
   "metadata": {},
   "source": [
    "Evolution throughout the years"
   ]
  }
 ],
 "metadata": {
  "kernelspec": {
   "display_name": "Python 3",
   "language": "python",
   "name": "python3"
  },
  "language_info": {
   "codemirror_mode": {
    "name": "ipython",
    "version": 3
   },
   "file_extension": ".py",
   "mimetype": "text/x-python",
   "name": "python",
   "nbconvert_exporter": "python",
   "pygments_lexer": "ipython3",
   "version": "3.8.8"
  }
 },
 "nbformat": 4,
 "nbformat_minor": 5
}
